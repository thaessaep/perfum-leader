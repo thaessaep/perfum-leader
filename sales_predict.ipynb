{
 "cells": [
  {
   "cell_type": "markdown",
   "id": "5ab107e0",
   "metadata": {},
   "source": [
    "# Предсказание продаж"
   ]
  },
  {
   "cell_type": "code",
   "execution_count": 1,
   "id": "79d47629",
   "metadata": {},
   "outputs": [],
   "source": [
    "import pandas as pd\n",
    "import numpy as np\n",
    "import seaborn as sns"
   ]
  },
  {
   "cell_type": "code",
   "execution_count": 2,
   "id": "3c0d07c6",
   "metadata": {
    "scrolled": true
   },
   "outputs": [
    {
     "data": {
      "text/html": [
       "<div>\n",
       "<style scoped>\n",
       "    .dataframe tbody tr th:only-of-type {\n",
       "        vertical-align: middle;\n",
       "    }\n",
       "\n",
       "    .dataframe tbody tr th {\n",
       "        vertical-align: top;\n",
       "    }\n",
       "\n",
       "    .dataframe thead th {\n",
       "        text-align: right;\n",
       "    }\n",
       "</style>\n",
       "<table border=\"1\" class=\"dataframe\">\n",
       "  <thead>\n",
       "    <tr style=\"text-align: right;\">\n",
       "      <th></th>\n",
       "      <th>дата</th>\n",
       "      <th>час</th>\n",
       "      <th>количество</th>\n",
       "      <th>сумма</th>\n",
       "    </tr>\n",
       "  </thead>\n",
       "  <tbody>\n",
       "    <tr>\n",
       "      <th>0</th>\n",
       "      <td>01.01.2020</td>\n",
       "      <td>10</td>\n",
       "      <td>1</td>\n",
       "      <td>449.91</td>\n",
       "    </tr>\n",
       "    <tr>\n",
       "      <th>1</th>\n",
       "      <td>01.01.2020</td>\n",
       "      <td>13</td>\n",
       "      <td>4</td>\n",
       "      <td>2021.80</td>\n",
       "    </tr>\n",
       "    <tr>\n",
       "      <th>2</th>\n",
       "      <td>01.01.2020</td>\n",
       "      <td>16</td>\n",
       "      <td>2</td>\n",
       "      <td>1369.30</td>\n",
       "    </tr>\n",
       "    <tr>\n",
       "      <th>3</th>\n",
       "      <td>01.01.2020</td>\n",
       "      <td>19</td>\n",
       "      <td>3</td>\n",
       "      <td>1927.52</td>\n",
       "    </tr>\n",
       "    <tr>\n",
       "      <th>4</th>\n",
       "      <td>01.01.2020</td>\n",
       "      <td>22</td>\n",
       "      <td>3</td>\n",
       "      <td>934.60</td>\n",
       "    </tr>\n",
       "  </tbody>\n",
       "</table>\n",
       "</div>"
      ],
      "text/plain": [
       "         дата  час  количество    сумма\n",
       "0  01.01.2020   10           1   449.91\n",
       "1  01.01.2020   13           4  2021.80\n",
       "2  01.01.2020   16           2  1369.30\n",
       "3  01.01.2020   19           3  1927.52\n",
       "4  01.01.2020   22           3   934.60"
      ]
     },
     "execution_count": 2,
     "metadata": {},
     "output_type": "execute_result"
    }
   ],
   "source": [
    "data = pd.read_csv('Data.csv', sep=';')\n",
    "data.head()"
   ]
  },
  {
   "cell_type": "markdown",
   "id": "87de09cd",
   "metadata": {},
   "source": [
    "## Преобразование даты в timestamp"
   ]
  },
  {
   "cell_type": "code",
   "execution_count": 3,
   "id": "c977740a",
   "metadata": {},
   "outputs": [],
   "source": [
    "import datetime"
   ]
  },
  {
   "cell_type": "code",
   "execution_count": 4,
   "id": "dda41ba7",
   "metadata": {},
   "outputs": [],
   "source": [
    "def date_to_timestamp(date):\n",
    "    date['дата'] = datetime.datetime.strptime(date['дата'], \"%d.%m.%Y\")\n",
    "    return datetime.datetime.timestamp(date['дата'])"
   ]
  },
  {
   "cell_type": "code",
   "execution_count": 5,
   "id": "4bba97ea",
   "metadata": {},
   "outputs": [],
   "source": [
    "data['дата'] = data.apply(date_to_timestamp, axis=1)"
   ]
  },
  {
   "cell_type": "code",
   "execution_count": 6,
   "id": "6f3f872f",
   "metadata": {},
   "outputs": [
    {
     "data": {
      "text/html": [
       "<div>\n",
       "<style scoped>\n",
       "    .dataframe tbody tr th:only-of-type {\n",
       "        vertical-align: middle;\n",
       "    }\n",
       "\n",
       "    .dataframe tbody tr th {\n",
       "        vertical-align: top;\n",
       "    }\n",
       "\n",
       "    .dataframe thead th {\n",
       "        text-align: right;\n",
       "    }\n",
       "</style>\n",
       "<table border=\"1\" class=\"dataframe\">\n",
       "  <thead>\n",
       "    <tr style=\"text-align: right;\">\n",
       "      <th></th>\n",
       "      <th>дата</th>\n",
       "      <th>количество</th>\n",
       "      <th>сумма</th>\n",
       "    </tr>\n",
       "  </thead>\n",
       "  <tbody>\n",
       "    <tr>\n",
       "      <th>0</th>\n",
       "      <td>1.577815e+09</td>\n",
       "      <td>1</td>\n",
       "      <td>449.91</td>\n",
       "    </tr>\n",
       "    <tr>\n",
       "      <th>1</th>\n",
       "      <td>1.577815e+09</td>\n",
       "      <td>4</td>\n",
       "      <td>2021.80</td>\n",
       "    </tr>\n",
       "    <tr>\n",
       "      <th>2</th>\n",
       "      <td>1.577815e+09</td>\n",
       "      <td>2</td>\n",
       "      <td>1369.30</td>\n",
       "    </tr>\n",
       "    <tr>\n",
       "      <th>3</th>\n",
       "      <td>1.577815e+09</td>\n",
       "      <td>3</td>\n",
       "      <td>1927.52</td>\n",
       "    </tr>\n",
       "    <tr>\n",
       "      <th>4</th>\n",
       "      <td>1.577815e+09</td>\n",
       "      <td>3</td>\n",
       "      <td>934.60</td>\n",
       "    </tr>\n",
       "  </tbody>\n",
       "</table>\n",
       "</div>"
      ],
      "text/plain": [
       "           дата  количество    сумма\n",
       "0  1.577815e+09           1   449.91\n",
       "1  1.577815e+09           4  2021.80\n",
       "2  1.577815e+09           2  1369.30\n",
       "3  1.577815e+09           3  1927.52\n",
       "4  1.577815e+09           3   934.60"
      ]
     },
     "execution_count": 6,
     "metadata": {},
     "output_type": "execute_result"
    }
   ],
   "source": [
    "#del data['количество']\n",
    "del data['час']\n",
    "data.head()"
   ]
  },
  {
   "cell_type": "markdown",
   "id": "237abddd",
   "metadata": {},
   "source": [
    "## Группировка и суммирование данных по дате"
   ]
  },
  {
   "cell_type": "code",
   "execution_count": 7,
   "id": "9adf19fb",
   "metadata": {
    "scrolled": true
   },
   "outputs": [],
   "source": [
    "data = data.groupby(by='дата', as_index=False).sum()"
   ]
  },
  {
   "cell_type": "code",
   "execution_count": 8,
   "id": "209948bf",
   "metadata": {},
   "outputs": [],
   "source": [
    "data = data.astype({'дата': 'int32', 'сумма': 'int32'})"
   ]
  },
  {
   "cell_type": "markdown",
   "id": "981961ce",
   "metadata": {},
   "source": [
    "## Разделение на тестовую и тренировочную выборки"
   ]
  },
  {
   "cell_type": "code",
   "execution_count": 9,
   "id": "5f383203",
   "metadata": {},
   "outputs": [],
   "source": [
    "X, y = data.drop(['сумма'], axis=1), data['сумма']"
   ]
  },
  {
   "cell_type": "code",
   "execution_count": 10,
   "id": "03370d2a",
   "metadata": {},
   "outputs": [
    {
     "data": {
      "text/plain": [
       "<AxesSubplot:xlabel='дата', ylabel='сумма'>"
      ]
     },
     "execution_count": 10,
     "metadata": {},
     "output_type": "execute_result"
    },
    {
     "data": {
      "image/png": "[encoded data removed]",
      "text/plain": [
       "<Figure size 432x288 with 1 Axes>"
      ]
     },
     "metadata": {
      "needs_background": "light"
     },
     "output_type": "display_data"
    }
   ],
   "source": [
    "sns.regplot(x=data['дата'], y=data['сумма'])"
   ]
  },
  {
   "cell_type": "code",
   "execution_count": 11,
   "id": "27288bad",
   "metadata": {},
   "outputs": [],
   "source": [
    "train_size = int(X.shape[0] * 0.8)"
   ]
  },
  {
   "cell_type": "code",
   "execution_count": 12,
   "id": "64f6db4f",
   "metadata": {},
   "outputs": [],
   "source": [
    "X_train, X_test, y_train, y_test = X[:train_size], X[train_size:], y[:train_size], y[train_size:]"
   ]
  },
  {
   "cell_type": "markdown",
   "id": "826f5516",
   "metadata": {},
   "source": [
    "## Обучение модели"
   ]
  },
  {
   "cell_type": "code",
   "execution_count": 13,
   "id": "8a8f19d3",
   "metadata": {},
   "outputs": [],
   "source": [
    "from sklearn.linear_model import LinearRegression"
   ]
  },
  {
   "cell_type": "code",
   "execution_count": 14,
   "id": "a87853ec",
   "metadata": {},
   "outputs": [],
   "source": [
    "model = LinearRegression()"
   ]
  },
  {
   "cell_type": "code",
   "execution_count": 15,
   "id": "aa739227",
   "metadata": {},
   "outputs": [
    {
     "data": {
      "text/plain": [
       "LinearRegression()"
      ]
     },
     "execution_count": 15,
     "metadata": {},
     "output_type": "execute_result"
    }
   ],
   "source": [
    "model.fit(X_train, y_train)"
   ]
  },
  {
   "cell_type": "code",
   "execution_count": 16,
   "id": "44e6cfb3",
   "metadata": {},
   "outputs": [],
   "source": [
    "y_pred = model.predict(X_test)"
   ]
  },
  {
   "cell_type": "code",
   "execution_count": 17,
   "id": "fd6a7291",
   "metadata": {},
   "outputs": [
    {
     "data": {
      "text/plain": [
       "<AxesSubplot:ylabel='сумма'>"
      ]
     },
     "execution_count": 17,
     "metadata": {},
     "output_type": "execute_result"
    },
    {
     "data": {
      "image/png": "[encoded data removed]",
      "text/plain": [
       "<Figure size 432x288 with 1 Axes>"
      ]
     },
     "metadata": {
      "needs_background": "light"
     },
     "output_type": "display_data"
    }
   ],
   "source": [
    "sns.regplot(x=y_pred, y=y_test)"
   ]
  },
  {
   "cell_type": "markdown",
   "id": "7ab47ef4",
   "metadata": {},
   "source": [
    "## Средняя ошибка"
   ]
  },
  {
   "cell_type": "code",
   "execution_count": 18,
   "id": "ca4c59e5",
   "metadata": {},
   "outputs": [],
   "source": [
    "MSE = np.mean((y_pred - y_test)**2)"
   ]
  },
  {
   "cell_type": "code",
   "execution_count": 19,
   "id": "1f7cd444",
   "metadata": {},
   "outputs": [
    {
     "data": {
      "text/plain": [
       "195297.391650581"
      ]
     },
     "execution_count": 19,
     "metadata": {},
     "output_type": "execute_result"
    }
   ],
   "source": [
    "MSE**0.5"
   ]
  }
 ],
 "metadata": {
  "kernelspec": {
   "display_name": "Python 3 (ipykernel)",
   "language": "python",
   "name": "python3"
  },
  "language_info": {
   "codemirror_mode": {
    "name": "ipython",
    "version": 3
   },
   "file_extension": ".py",
   "mimetype": "text/x-python",
   "name": "python",
   "nbconvert_exporter": "python",
   "pygments_lexer": "ipython3",
   "version": "3.9.0"
  }
 },
 "nbformat": 4,
 "nbformat_minor": 5
}
